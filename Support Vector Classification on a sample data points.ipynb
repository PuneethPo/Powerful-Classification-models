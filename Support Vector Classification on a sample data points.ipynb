{
  "nbformat": 4,
  "nbformat_minor": 0,
  "metadata": {
    "colab": {
      "name": "Untitled182.ipynb",
      "provenance": []
    },
    "kernelspec": {
      "name": "python3",
      "display_name": "Python 3"
    },
    "language_info": {
      "name": "python"
    }
  },
  "cells": [
    {
      "cell_type": "markdown",
      "metadata": {
        "id": "wXqsTo8CeYeX"
      },
      "source": [
        "# Support Vector Classification on a sample data points"
      ]
    },
    {
      "cell_type": "code",
      "metadata": {
        "id": "6K_jKZFzeka3"
      },
      "source": [
        "# Import the necessary libraries\n",
        "import warnings\n",
        "import pandas as pd\n",
        "import numpy as np\n",
        "from sklearn import svm\n",
        "import matplotlib.pyplot as plt\n",
        "from sklearn.datasets.samples_generator import make_blobs \n",
        "\n",
        "# creating 50 samples using make_blobs function\n",
        "\n",
        "X,y = make_blobs(n_samples = 50,centers =2, random_state = 30)              "
      ],
      "execution_count": 2,
      "outputs": []
    },
    {
      "cell_type": "code",
      "metadata": {
        "colab": {
          "base_uri": "https://localhost:8080/"
        },
        "id": "GrNnwzlsfUop",
        "outputId": "4d4ef3f3-62fd-42b8-b126-47a6054bd929"
      },
      "source": [
        "# Define the kernel (separation based on the data nature) and fit the data \n",
        "clf = svm.SVC(kernel = 'linear',C=1)\n",
        "clf.fit(X,y)"
      ],
      "execution_count": 3,
      "outputs": [
        {
          "output_type": "execute_result",
          "data": {
            "text/plain": [
              "SVC(C=1, break_ties=False, cache_size=200, class_weight=None, coef0=0.0,\n",
              "    decision_function_shape='ovr', degree=3, gamma='scale', kernel='linear',\n",
              "    max_iter=-1, probability=False, random_state=None, shrinking=True,\n",
              "    tol=0.001, verbose=False)"
            ]
          },
          "metadata": {
            "tags": []
          },
          "execution_count": 3
        }
      ]
    },
    {
      "cell_type": "code",
      "metadata": {
        "colab": {
          "base_uri": "https://localhost:8080/",
          "height": 265
        },
        "id": "BHAPe4DhfyEJ",
        "outputId": "cb29dde1-c2af-4ff0-c945-c90bb71c851c"
      },
      "source": [
        "# Display the data in the form of graph\n",
        "plt.scatter(X[:,0],X[:,1],c=y,cmap = plt.cm.Paired)\n",
        "plt.show()"
      ],
      "execution_count": 4,
      "outputs": [
        {
          "output_type": "display_data",
          "data": {
            "image/png": "[encoded data removed]",
            "text/plain": [
              "<Figure size 432x288 with 1 Axes>"
            ]
          },
          "metadata": {
            "tags": [],
            "needs_background": "light"
          }
        }
      ]
    },
    {
      "cell_type": "code",
      "metadata": {
        "colab": {
          "base_uri": "https://localhost:8080/"
        },
        "id": "xQ1itu7qgIfW",
        "outputId": "bb5ce2c8-f9fe-47c0-ff40-dd7add58647b"
      },
      "source": [
        "# Validating the model how it classifies for the new data point\n",
        "\n",
        "newData = [[1,1],[4,-8]]\n",
        "clf.predict(newData)"
      ],
      "execution_count": 18,
      "outputs": [
        {
          "output_type": "execute_result",
          "data": {
            "text/plain": [
              "array([0, 1])"
            ]
          },
          "metadata": {
            "tags": []
          },
          "execution_count": 18
        }
      ]
    }
  ]
}